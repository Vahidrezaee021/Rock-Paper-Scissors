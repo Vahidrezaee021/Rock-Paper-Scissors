{
 "cells": [
  {
   "cell_type": "code",
   "execution_count": 42,
   "metadata": {},
   "outputs": [],
   "source": [
    "import random\n",
    "\n",
    "\n",
    "class RockPaperScissors:\n",
    "    def __init__(self, name):\n",
    "        self.choices = ['rock', 'paper', 'scissors']\n",
    "        self.player_name = name\n",
    "        \n",
    "    def get_player_choice(self):\n",
    "        user_choice = input(f\"enter your choice ({self.choices}): \")\n",
    "        if user_choice.lower() in self.choices:\n",
    "            return user_choice\n",
    "        \n",
    "        print(f\"invalid choice! , you must select from {self.choices}\")\n",
    "        return self.get_player_choice()\n",
    "        \n",
    "        \n",
    "    def get_computer_choice(self):\n",
    "        return random.choice(self.choices)\n",
    "        \n",
    "    # decide_winner\n",
    "    \n",
    "    def play(self):\n",
    "        user_choice = self.get_player_choice()\n",
    "        computer_choice = self.get_computer_choice()\n",
    "        print(user_choice, computer_choice)\n",
    "        "
   ]
  }
 ],
 "metadata": {
  "kernelspec": {
   "display_name": "myenv",
   "language": "python",
   "name": "python3"
  },
  "language_info": {
   "codemirror_mode": {
    "name": "ipython",
    "version": 3
   },
   "file_extension": ".py",
   "mimetype": "text/x-python",
   "name": "python",
   "nbconvert_exporter": "python",
   "pygments_lexer": "ipython3",
   "version": "3.11.13"
  }
 },
 "nbformat": 4,
 "nbformat_minor": 2
}
