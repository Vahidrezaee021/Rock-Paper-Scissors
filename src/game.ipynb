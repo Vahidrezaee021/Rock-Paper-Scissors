{
 "cells": [
  {
   "cell_type": "code",
   "execution_count": 53,
   "metadata": {},
   "outputs": [],
   "source": [
    "import random\n",
    "\n",
    "\n",
    "class RockPaperScissors:\n",
    "    def __init__(self, name):\n",
    "        self.choices = ['rock', 'paper', 'scissors']\n",
    "        self.player_name = name\n",
    "        \n",
    "    def get_player_choice(self):\n",
    "        user_choice = input(f\"enter your choice ({self.choices}): \")\n",
    "        if user_choice.lower() in self.choices:\n",
    "            return user_choice\n",
    "        \n",
    "        print(f\"invalid choice! , you must select from {self.choices}\")\n",
    "        return self.get_player_choice()\n",
    "        \n",
    "        \n",
    "    def get_computer_choice(self):\n",
    "        return random.choice(self.choices)\n",
    "        \n",
    "    def decide_winner(self, user_choice, computer_choice):\n",
    "        if user_choice == computer_choice:\n",
    "            return \"It's a tie!\"        \n",
    "        win_combinations = [('rock', 'scissors'), ('paper', 'rock'), ('scissors', 'paper')]\n",
    "        for win_comb in win_combinations:\n",
    "            if(user_choice == win_comb[0]) & (computer_choice == win_comb[1]):\n",
    "                return 'you won!'\n",
    "        \n",
    "        return 'oh no!'\n",
    "    \n",
    "    def play(self):\n",
    "        user_choice = self.get_player_choice()\n",
    "        computer_choice = self.get_computer_choice()\n",
    "        winner_msg = self.decide_winner(user_choice, computer_choice)\n",
    "        print(f'Computer choice: {computer_choice}')\n",
    "        print(winner_msg)"
   ]
  },
  {
   "cell_type": "code",
   "execution_count": 54,
   "metadata": {},
   "outputs": [
    {
     "name": "stdout",
     "output_type": "stream",
     "text": [
      "Computer choice: rock\n",
      "you won!\n"
     ]
    }
   ],
   "source": [
    "game = RockPaperScissors('vahid')\n",
    "\n",
    "while True:\n",
    "    game.play()\n",
    "    \n",
    "    continue_game = input('Do you want to play again? (Enter any key to play again, enter q/Q to exit!)')\n",
    "    if continue_game.lower() == 'q':\n",
    "        break"
   ]
  },
  {
   "cell_type": "code",
   "execution_count": null,
   "metadata": {},
   "outputs": [],
   "source": []
  }
 ],
 "metadata": {
  "kernelspec": {
   "display_name": "myenv",
   "language": "python",
   "name": "python3"
  },
  "language_info": {
   "codemirror_mode": {
    "name": "ipython",
    "version": 3
   },
   "file_extension": ".py",
   "mimetype": "text/x-python",
   "name": "python",
   "nbconvert_exporter": "python",
   "pygments_lexer": "ipython3",
   "version": "3.11.13"
  }
 },
 "nbformat": 4,
 "nbformat_minor": 2
}
